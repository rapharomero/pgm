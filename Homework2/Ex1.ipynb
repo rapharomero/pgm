{
 "cells": [
  {
   "cell_type": "code",
   "execution_count": 1,
   "metadata": {
    "collapsed": false
   },
   "outputs": [
    {
     "data": {
      "text/plain": [
       "array([[ 0.256]])"
      ]
     },
     "execution_count": 1,
     "metadata": {},
     "output_type": "execute_result"
    }
   ],
   "source": [
    "import numpy as np\n",
    "\n",
    "S = np.array([[0.5],\n",
    "              [0.5]])\n",
    "R = np.array([[0.2],\n",
    "              [0.8]])\n",
    "\n",
    "G_SR = np.array([[0.8,0.01],\n",
    "                 [0.95,0.08]])\n",
    "SR = np.dot(S,R.T)\n",
    "\n",
    "G = np.array([[np.trace(G_SR.T * SR)],\n",
    "             [1 - np.trace(G_SR.T * SR)]])\n",
    "P_G = np.array([[0.7],\n",
    "                [0.2]])\n",
    "\n",
    "P = np.dot(G.T,P_G)\n",
    "\n",
    "P"
   ]
  }
 ],
 "metadata": {
  "anaconda-cloud": {},
  "kernelspec": {
   "display_name": "Python [conda root]",
   "language": "python",
   "name": "conda-root-py"
  },
  "language_info": {
   "codemirror_mode": {
    "name": "ipython",
    "version": 2
   },
   "file_extension": ".py",
   "mimetype": "text/x-python",
   "name": "python",
   "nbconvert_exporter": "python",
   "pygments_lexer": "ipython2",
   "version": "2.7.13"
  }
 },
 "nbformat": 4,
 "nbformat_minor": 1
}
